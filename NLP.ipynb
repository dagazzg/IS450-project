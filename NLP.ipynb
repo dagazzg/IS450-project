{
 "cells": [
  {
   "cell_type": "code",
   "execution_count": null,
   "metadata": {
    "colab": {
     "base_uri": "https://localhost:8080/",
     "height": 71
    },
    "colab_type": "code",
    "id": "5ZUxt6t39duA",
    "outputId": "53b8c661-ce5d-4e89-b515-bb7005548b1b"
   },
   "outputs": [],
   "source": [
    "# !pip install pyLDAvis\n",
    "# !pip install nltk\n",
    "# import nltk; nltk.download('stopwords')\n",
    "# !pip install spacy\n",
    "# import spacy.cli\n",
    "# spacy.cli.download(\"en_core_web_sm\")"
   ]
  },
  {
   "cell_type": "code",
   "execution_count": 24,
   "metadata": {
    "colab": {
     "base_uri": "https://localhost:8080/",
     "height": 55
    },
    "colab_type": "code",
    "id": "UQ7XjWRQ8kjm",
    "outputId": "966ebe90-b340-4c7a-c9f1-a81d253b67ce"
   },
   "outputs": [
    {
     "name": "stdout",
     "output_type": "stream",
     "text": [
      "1\n",
      "2\n",
      "3\n",
      "4\n",
      "5\n",
      "6\n",
      "7\n",
      "8\n",
      "9\n",
      "10\n"
     ]
    }
   ],
   "source": [
    "import nltk\n",
    "import re\n",
    "import numpy as np\n",
    "import pandas as pd\n",
    "from pprint import pprint\n",
    "\n",
    "import gensim\n",
    "import gensim.corpora as corpora\n",
    "from gensim.utils import simple_preprocess\n",
    "from gensim.models import CoherenceModel\n",
    "\n",
    "import spacy\n",
    "\n",
    "import pyLDAvis\n",
    "import pyLDAvis.gensim\n",
    "import matplotlib.pyplot as plt\n",
    "%matplotlib inline\n",
    "\n",
    "import warnings\n",
    "warnings.filterwarnings(\"ignore\",category=DeprecationWarning)\n",
    "# \n",
    "# import data\n",
    "df = pd.read_csv('reviews.csv')\n",
    "# separate data by listings\n",
    "df_sep = df.groupby(['listing_id'])\n",
    "\n",
    "stop_words = nltk.corpus.stopwords.words('english')\n",
    "\n",
    "everything = {}\n",
    "res = [df_sep.get_group(x) for x in df_sep.groups]\n",
    "test = 0\n",
    "# all reviews for 1 listing == 1 dataframe\n",
    "for listing in res:\n",
    "    if test >= 10:\n",
    "        break\n",
    "#     print (listing)\n",
    "    all_reviews_for_listing = []\n",
    "    # data is stored in a tuple (listing id, dataframe)\n",
    "#     all_reviews = listing[1]['comments']\n",
    "#     date = listing[1]['date']\n",
    "    listing_id = listing['listing_id'].values[0]\n",
    "#     print(listing_id)\n",
    "    for rev in listing.iterrows():\n",
    "        review = rev[1][5]\n",
    "        date = rev[1][2]\n",
    "        full_review = \"\"\n",
    "        # empty text for reviews are stored as float NaNs in Pandas\n",
    "        if (isinstance(review,str)):\n",
    "        #     tokenise\n",
    "            doc = nltk.word_tokenize(review)\n",
    "        #     convert to lowercase\n",
    "            doc2 = [w.lower() for w in doc]\n",
    "    #         print(doc2)\n",
    "            doc3 = [w for w in doc2 if re.search('^[a-z]+$', w)]\n",
    "        #     remove stopwords\n",
    "            review_words = [word for word in doc3 if word not in stop_words]\n",
    "            for word in review_words:\n",
    "                full_review += word + \" \"\n",
    "            all_reviews_for_listing.append({str(date):full_review})\n",
    "#     print(all_reviews_for_listing)\n",
    "    everything[str(listing_id)] = all_reviews_for_listing\n",
    "    test += 1\n",
    "    print(test)\n",
    "\n",
    "# out = pd.DataFrame.from_dict(everything)\n",
    "# out.to_csv(path=\"cleaned.csv\", orient='index')\n",
    "# with open('cleaned.csv', 'w') as f:\n",
    "#     [f.write('{0},{1}\\n'.format(key, value)) for key, value in everything.items()]\n",
    "\n",
    "with open('cleaned.csv', 'w') as f:\n",
    "    for key,reviews in everything.items():\n",
    "        for review_dict in reviews:\n",
    "            # This loop will only iterate once\n",
    "            for date,review in review_dict.items():\n",
    "                f.write('{0},{1},{2}\\n'.format(key,date,review))"
   ]
  },
  {
   "cell_type": "code",
   "execution_count": null,
   "metadata": {},
   "outputs": [],
   "source": []
  }
 ],
 "metadata": {
  "colab": {
   "collapsed_sections": [],
   "name": "NLP.ipynb",
   "provenance": [],
   "version": "0.3.2"
  },
  "kernelspec": {
   "display_name": "Python 3",
   "language": "python",
   "name": "python3"
  },
  "language_info": {
   "codemirror_mode": {
    "name": "ipython",
    "version": 3
   },
   "file_extension": ".py",
   "mimetype": "text/x-python",
   "name": "python",
   "nbconvert_exporter": "python",
   "pygments_lexer": "ipython3",
   "version": "3.7.0"
  }
 },
 "nbformat": 4,
 "nbformat_minor": 1
}
